{
 "cells": [
  {
   "cell_type": "markdown",
   "metadata": {},
   "source": [
    "## Probability and Counting"
   ]
  },
  {
   "cell_type": "markdown",
   "metadata": {},
   "source": [
    "### Logistics \n",
    "##### Office Hours: Wednesdays in Currier Dining Hall from 3:15 pm to 5:15 pm!\n",
    "##### Email: efinn@college.harvard.edu\n",
    "##### Phone Number: 646 - 668 - 6116\n",
    "##### Attendance Form: TBD\n",
    "##### Feedback Form: https://forms.gle/Bm7mKuqjzbJPufb8A"
   ]
  },
  {
   "cell_type": "markdown",
   "metadata": {},
   "source": [
    "### Sample Spaces and Pebble World (Ch 1.2)\n",
    "\n"
   ]
  },
  {
   "cell_type": "markdown",
   "metadata": {},
   "source": [
    "**Experiment, Outcomes, and Sample Space** The sample space S of an experiment is the set of all possible outcomes of the experiment. The outcome of the experiment is an element of that list. For example, the sample space of a dice roll is $ \\{1,2,3,4,5,6\\}$. An outcome would be rolling a 4. \n",
    "\n",
    "**Event** An event $ A \\subseteq S$ is a subset of the sample space. We say that an event occurs if the outcome is in A. Consider the event A = rolling an even number and B = rolling a 4. If the oucome of the die roll is 4, then \n"
   ]
  },
  {
   "cell_type": "markdown",
   "metadata": {},
   "source": []
  }
 ],
 "metadata": {
  "kernelspec": {
   "display_name": "Python (docsenv)",
   "language": "python",
   "name": "docsenv"
  },
  "language_info": {
   "codemirror_mode": {
    "name": "ipython",
    "version": 3
   },
   "file_extension": ".py",
   "mimetype": "text/x-python",
   "name": "python",
   "nbconvert_exporter": "python",
   "pygments_lexer": "ipython3",
   "version": "3.8.19"
  }
 },
 "nbformat": 4,
 "nbformat_minor": 2
}
